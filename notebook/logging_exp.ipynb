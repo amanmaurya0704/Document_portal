{
 "cells": [
  {
   "cell_type": "code",
   "execution_count": 2,
   "id": "4251b154",
   "metadata": {},
   "outputs": [],
   "source": [
    "import logging\n",
    "import os\n",
    "from datetime import datetime\n",
    "\n",
    "log_dir = os.path.join(os.getcwd(),\"logs\")\n",
    "os.makedirs(log_dir,exist_ok=True)"
   ]
  },
  {
   "cell_type": "code",
   "execution_count": 3,
   "id": "da3c8af0",
   "metadata": {},
   "outputs": [],
   "source": [
    "Log_file = f\"{datetime.now().strftime('%m_%d_%Y_%H_%M_%S')}.log\""
   ]
  },
  {
   "cell_type": "code",
   "execution_count": 4,
   "id": "6d0dc8c0",
   "metadata": {},
   "outputs": [],
   "source": [
    "LOG_FILE_PATH = os.path.join(log_dir,Log_file)"
   ]
  },
  {
   "cell_type": "code",
   "execution_count": 5,
   "id": "690817a5",
   "metadata": {},
   "outputs": [],
   "source": [
    "logging.basicConfig(filename=LOG_FILE_PATH,\n",
    "                    format=\"[ %(asctime)s ] %(levelname)s %(name)s (line:%(lineno)d) - %(message)s\",\n",
    "                    level=logging.INFO\n",
    "                    )"
   ]
  },
  {
   "cell_type": "code",
   "execution_count": 6,
   "id": "a0ef9ab1",
   "metadata": {},
   "outputs": [],
   "source": [
    "logger = logging.getLogger(\"Document_Portal\")"
   ]
  },
  {
   "cell_type": "code",
   "execution_count": 7,
   "id": "f0a94d59",
   "metadata": {},
   "outputs": [],
   "source": [
    "logger.info(\"This is an info log\")"
   ]
  },
  {
   "cell_type": "code",
   "execution_count": 8,
   "id": "112a5553",
   "metadata": {},
   "outputs": [],
   "source": [
    "logger.critical(\"This is a critical log\")"
   ]
  },
  {
   "cell_type": "code",
   "execution_count": null,
   "id": "03ce2194",
   "metadata": {},
   "outputs": [],
   "source": [
    "import structlog"
   ]
  },
  {
   "cell_type": "code",
   "execution_count": 2,
   "id": "caec52c6",
   "metadata": {},
   "outputs": [],
   "source": [
    "import os\n",
    "provider_key = os.getenv(\"LLM_Provider\",\"groq\")"
   ]
  },
  {
   "cell_type": "code",
   "execution_count": null,
   "id": "dbe6c2bb",
   "metadata": {},
   "outputs": [
    {
     "data": {
      "text/plain": [
       "'groq'"
      ]
     },
     "execution_count": 3,
     "metadata": {},
     "output_type": "execute_result"
    },
    {
     "ename": "",
     "evalue": "",
     "output_type": "error",
     "traceback": [
      "\u001b[1;31mThe Kernel crashed while executing code in the current cell or a previous cell. \n",
      "\u001b[1;31mPlease review the code in the cell(s) to identify a possible cause of the failure. \n",
      "\u001b[1;31mClick <a href='https://aka.ms/vscodeJupyterKernelCrash'>here</a> for more info. \n",
      "\u001b[1;31mView Jupyter <a href='command:jupyter.viewOutput'>log</a> for further details."
     ]
    }
   ],
   "source": []
  },
  {
   "cell_type": "code",
   "execution_count": null,
   "id": "8bbb63d3",
   "metadata": {},
   "outputs": [],
   "source": []
  }
 ],
 "metadata": {
  "kernelspec": {
   "display_name": "venvllops",
   "language": "python",
   "name": "python3"
  },
  "language_info": {
   "codemirror_mode": {
    "name": "ipython",
    "version": 3
   },
   "file_extension": ".py",
   "mimetype": "text/x-python",
   "name": "python",
   "nbconvert_exporter": "python",
   "pygments_lexer": "ipython3",
   "version": "3.12.0"
  }
 },
 "nbformat": 4,
 "nbformat_minor": 5
}
